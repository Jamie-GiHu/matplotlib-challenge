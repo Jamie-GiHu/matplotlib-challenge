{
 "cells": [
  {
   "cell_type": "markdown",
   "metadata": {},
   "source": [
    "## Observations and Insights "
   ]
  },
  {
   "cell_type": "markdown",
   "metadata": {},
   "source": []
  },
  {
   "cell_type": "code",
   "execution_count": 1,
   "metadata": {},
   "outputs": [
    {
     "data": {
      "text/html": [
       "<div>\n",
       "<style scoped>\n",
       "    .dataframe tbody tr th:only-of-type {\n",
       "        vertical-align: middle;\n",
       "    }\n",
       "\n",
       "    .dataframe tbody tr th {\n",
       "        vertical-align: top;\n",
       "    }\n",
       "\n",
       "    .dataframe thead th {\n",
       "        text-align: right;\n",
       "    }\n",
       "</style>\n",
       "<table border=\"1\" class=\"dataframe\">\n",
       "  <thead>\n",
       "    <tr style=\"text-align: right;\">\n",
       "      <th></th>\n",
       "      <th>Mouse ID</th>\n",
       "      <th>Drug Regimen</th>\n",
       "      <th>Sex</th>\n",
       "      <th>Age_months</th>\n",
       "      <th>Weight (g)</th>\n",
       "      <th>Timepoint</th>\n",
       "      <th>Tumor Volume (mm3)</th>\n",
       "      <th>Metastatic Sites</th>\n",
       "    </tr>\n",
       "  </thead>\n",
       "  <tbody>\n",
       "    <tr>\n",
       "      <th>0</th>\n",
       "      <td>k403</td>\n",
       "      <td>Ramicane</td>\n",
       "      <td>Male</td>\n",
       "      <td>21</td>\n",
       "      <td>16</td>\n",
       "      <td>0</td>\n",
       "      <td>45.000000</td>\n",
       "      <td>0</td>\n",
       "    </tr>\n",
       "    <tr>\n",
       "      <th>1</th>\n",
       "      <td>k403</td>\n",
       "      <td>Ramicane</td>\n",
       "      <td>Male</td>\n",
       "      <td>21</td>\n",
       "      <td>16</td>\n",
       "      <td>5</td>\n",
       "      <td>38.825898</td>\n",
       "      <td>0</td>\n",
       "    </tr>\n",
       "    <tr>\n",
       "      <th>2</th>\n",
       "      <td>k403</td>\n",
       "      <td>Ramicane</td>\n",
       "      <td>Male</td>\n",
       "      <td>21</td>\n",
       "      <td>16</td>\n",
       "      <td>10</td>\n",
       "      <td>35.014271</td>\n",
       "      <td>1</td>\n",
       "    </tr>\n",
       "    <tr>\n",
       "      <th>3</th>\n",
       "      <td>k403</td>\n",
       "      <td>Ramicane</td>\n",
       "      <td>Male</td>\n",
       "      <td>21</td>\n",
       "      <td>16</td>\n",
       "      <td>15</td>\n",
       "      <td>34.223992</td>\n",
       "      <td>1</td>\n",
       "    </tr>\n",
       "    <tr>\n",
       "      <th>4</th>\n",
       "      <td>k403</td>\n",
       "      <td>Ramicane</td>\n",
       "      <td>Male</td>\n",
       "      <td>21</td>\n",
       "      <td>16</td>\n",
       "      <td>20</td>\n",
       "      <td>32.997729</td>\n",
       "      <td>1</td>\n",
       "    </tr>\n",
       "  </tbody>\n",
       "</table>\n",
       "</div>"
      ],
      "text/plain": [
       "  Mouse ID Drug Regimen   Sex  Age_months  Weight (g)  Timepoint  \\\n",
       "0     k403     Ramicane  Male          21          16          0   \n",
       "1     k403     Ramicane  Male          21          16          5   \n",
       "2     k403     Ramicane  Male          21          16         10   \n",
       "3     k403     Ramicane  Male          21          16         15   \n",
       "4     k403     Ramicane  Male          21          16         20   \n",
       "\n",
       "   Tumor Volume (mm3)  Metastatic Sites  \n",
       "0           45.000000                 0  \n",
       "1           38.825898                 0  \n",
       "2           35.014271                 1  \n",
       "3           34.223992                 1  \n",
       "4           32.997729                 1  "
      ]
     },
     "execution_count": 1,
     "metadata": {},
     "output_type": "execute_result"
    }
   ],
   "source": [
    "# Dependencies and Setup\n",
    "import matplotlib.pyplot as plt\n",
    "import pandas as pd\n",
    "import scipy.stats as st\n",
    "\n",
    "# Study data files\n",
    "mouse_metadata_path = \"data/Mouse_metadata.csv\"\n",
    "study_results_path = \"data/Study_results.csv\"\n",
    "\n",
    "# Read the mouse data and the study results\n",
    "mouse_metadata = pd.read_csv(mouse_metadata_path)\n",
    "study_results = pd.read_csv(study_results_path)\n",
    "\n",
    "# Combine the data into a single dataset\n",
    "merge_df = pd.merge(mouse_metadata, study_results, on=\"Mouse ID\", how=\"left\")\n",
    "\n",
    "# Display the data table for preview\n",
    "merge_df.head()"
   ]
  },
  {
   "cell_type": "code",
   "execution_count": 2,
   "metadata": {},
   "outputs": [
    {
     "data": {
      "text/plain": [
       "249"
      ]
     },
     "execution_count": 2,
     "metadata": {},
     "output_type": "execute_result"
    }
   ],
   "source": [
    "# Checking the number of mice.\n",
    "len(merge_df[\"Mouse ID\"].unique())"
   ]
  },
  {
   "cell_type": "code",
   "execution_count": 3,
   "metadata": {},
   "outputs": [
    {
     "data": {
      "text/plain": [
       "array(['g989'], dtype=object)"
      ]
     },
     "execution_count": 3,
     "metadata": {},
     "output_type": "execute_result"
    }
   ],
   "source": [
    "# Getting the duplicate mice by ID number that shows up for Mouse ID and Timepoint. \n",
    "duplicated_mouse_timeline = merge_df[merge_df.duplicated([\"Mouse ID\",\"Timepoint\"])]\n",
    "duplicated_mouse_timeline[\"Mouse ID\"].unique()"
   ]
  },
  {
   "cell_type": "code",
   "execution_count": 4,
   "metadata": {},
   "outputs": [
    {
     "data": {
      "text/html": [
       "<div>\n",
       "<style scoped>\n",
       "    .dataframe tbody tr th:only-of-type {\n",
       "        vertical-align: middle;\n",
       "    }\n",
       "\n",
       "    .dataframe tbody tr th {\n",
       "        vertical-align: top;\n",
       "    }\n",
       "\n",
       "    .dataframe thead th {\n",
       "        text-align: right;\n",
       "    }\n",
       "</style>\n",
       "<table border=\"1\" class=\"dataframe\">\n",
       "  <thead>\n",
       "    <tr style=\"text-align: right;\">\n",
       "      <th></th>\n",
       "      <th>Mouse ID</th>\n",
       "      <th>Drug Regimen</th>\n",
       "      <th>Sex</th>\n",
       "      <th>Age_months</th>\n",
       "      <th>Weight (g)</th>\n",
       "      <th>Timepoint</th>\n",
       "      <th>Tumor Volume (mm3)</th>\n",
       "      <th>Metastatic Sites</th>\n",
       "    </tr>\n",
       "  </thead>\n",
       "  <tbody>\n",
       "    <tr>\n",
       "      <th>909</th>\n",
       "      <td>g989</td>\n",
       "      <td>Propriva</td>\n",
       "      <td>Female</td>\n",
       "      <td>21</td>\n",
       "      <td>26</td>\n",
       "      <td>0</td>\n",
       "      <td>45.000000</td>\n",
       "      <td>0</td>\n",
       "    </tr>\n",
       "    <tr>\n",
       "      <th>911</th>\n",
       "      <td>g989</td>\n",
       "      <td>Propriva</td>\n",
       "      <td>Female</td>\n",
       "      <td>21</td>\n",
       "      <td>26</td>\n",
       "      <td>5</td>\n",
       "      <td>47.570392</td>\n",
       "      <td>0</td>\n",
       "    </tr>\n",
       "    <tr>\n",
       "      <th>913</th>\n",
       "      <td>g989</td>\n",
       "      <td>Propriva</td>\n",
       "      <td>Female</td>\n",
       "      <td>21</td>\n",
       "      <td>26</td>\n",
       "      <td>10</td>\n",
       "      <td>49.880528</td>\n",
       "      <td>0</td>\n",
       "    </tr>\n",
       "    <tr>\n",
       "      <th>915</th>\n",
       "      <td>g989</td>\n",
       "      <td>Propriva</td>\n",
       "      <td>Female</td>\n",
       "      <td>21</td>\n",
       "      <td>26</td>\n",
       "      <td>15</td>\n",
       "      <td>53.442020</td>\n",
       "      <td>0</td>\n",
       "    </tr>\n",
       "    <tr>\n",
       "      <th>917</th>\n",
       "      <td>g989</td>\n",
       "      <td>Propriva</td>\n",
       "      <td>Female</td>\n",
       "      <td>21</td>\n",
       "      <td>26</td>\n",
       "      <td>20</td>\n",
       "      <td>54.657650</td>\n",
       "      <td>1</td>\n",
       "    </tr>\n",
       "  </tbody>\n",
       "</table>\n",
       "</div>"
      ],
      "text/plain": [
       "    Mouse ID Drug Regimen     Sex  Age_months  Weight (g)  Timepoint  \\\n",
       "909     g989     Propriva  Female          21          26          0   \n",
       "911     g989     Propriva  Female          21          26          5   \n",
       "913     g989     Propriva  Female          21          26         10   \n",
       "915     g989     Propriva  Female          21          26         15   \n",
       "917     g989     Propriva  Female          21          26         20   \n",
       "\n",
       "     Tumor Volume (mm3)  Metastatic Sites  \n",
       "909           45.000000                 0  \n",
       "911           47.570392                 0  \n",
       "913           49.880528                 0  \n",
       "915           53.442020                 0  \n",
       "917           54.657650                 1  "
      ]
     },
     "execution_count": 4,
     "metadata": {},
     "output_type": "execute_result"
    }
   ],
   "source": [
    "# Optional: Get all the data for the duplicate mouse ID. \n",
    "duplicated_mouse_timeline"
   ]
  },
  {
   "cell_type": "code",
   "execution_count": 5,
   "metadata": {},
   "outputs": [],
   "source": [
    "# Create a clean DataFrame by dropping the duplicate mouse by its ID.\n",
    "clean_df = merge_df.drop_duplicates(subset=[\"Mouse ID\",\"Timepoint\"], keep=\"first\")"
   ]
  },
  {
   "cell_type": "code",
   "execution_count": 6,
   "metadata": {},
   "outputs": [
    {
     "data": {
      "text/plain": [
       "249"
      ]
     },
     "execution_count": 6,
     "metadata": {},
     "output_type": "execute_result"
    }
   ],
   "source": [
    "# Checking the number of mice in the clean DataFrame.\n",
    "len(clean_df[\"Mouse ID\"].unique())"
   ]
  },
  {
   "cell_type": "markdown",
   "metadata": {},
   "source": [
    "## Summary Statistics"
   ]
  },
  {
   "cell_type": "code",
   "execution_count": 7,
   "metadata": {},
   "outputs": [
    {
     "data": {
      "text/html": [
       "<div>\n",
       "<style scoped>\n",
       "    .dataframe tbody tr th:only-of-type {\n",
       "        vertical-align: middle;\n",
       "    }\n",
       "\n",
       "    .dataframe tbody tr th {\n",
       "        vertical-align: top;\n",
       "    }\n",
       "\n",
       "    .dataframe thead th {\n",
       "        text-align: right;\n",
       "    }\n",
       "</style>\n",
       "<table border=\"1\" class=\"dataframe\">\n",
       "  <thead>\n",
       "    <tr style=\"text-align: right;\">\n",
       "      <th></th>\n",
       "      <th>Mean Tumor Volume (mm3)</th>\n",
       "      <th>Median Tumor Volume (mm3)</th>\n",
       "      <th>Variance Tumor Volume (mm3)</th>\n",
       "      <th>Standard Deviation Tumor Volume (mm3)</th>\n",
       "      <th>SEM Tumor Volume (mm3)</th>\n",
       "    </tr>\n",
       "    <tr>\n",
       "      <th>Drug Regimen</th>\n",
       "      <th></th>\n",
       "      <th></th>\n",
       "      <th></th>\n",
       "      <th></th>\n",
       "      <th></th>\n",
       "    </tr>\n",
       "  </thead>\n",
       "  <tbody>\n",
       "    <tr>\n",
       "      <th>Ramicane</th>\n",
       "      <td>40.216745</td>\n",
       "      <td>40.673236</td>\n",
       "      <td>23.486704</td>\n",
       "      <td>4.846308</td>\n",
       "      <td>0.320955</td>\n",
       "    </tr>\n",
       "    <tr>\n",
       "      <th>Capomulin</th>\n",
       "      <td>40.675741</td>\n",
       "      <td>41.557809</td>\n",
       "      <td>24.947764</td>\n",
       "      <td>4.994774</td>\n",
       "      <td>0.329346</td>\n",
       "    </tr>\n",
       "    <tr>\n",
       "      <th>Infubinol</th>\n",
       "      <td>52.884795</td>\n",
       "      <td>51.820584</td>\n",
       "      <td>43.128684</td>\n",
       "      <td>6.567243</td>\n",
       "      <td>0.492236</td>\n",
       "    </tr>\n",
       "    <tr>\n",
       "      <th>Placebo</th>\n",
       "      <td>54.033581</td>\n",
       "      <td>52.288934</td>\n",
       "      <td>61.168083</td>\n",
       "      <td>7.821003</td>\n",
       "      <td>0.581331</td>\n",
       "    </tr>\n",
       "    <tr>\n",
       "      <th>Ceftamin</th>\n",
       "      <td>52.591172</td>\n",
       "      <td>51.776157</td>\n",
       "      <td>39.290177</td>\n",
       "      <td>6.268188</td>\n",
       "      <td>0.469821</td>\n",
       "    </tr>\n",
       "    <tr>\n",
       "      <th>Stelasyn</th>\n",
       "      <td>54.233149</td>\n",
       "      <td>52.431737</td>\n",
       "      <td>59.450562</td>\n",
       "      <td>7.710419</td>\n",
       "      <td>0.573111</td>\n",
       "    </tr>\n",
       "    <tr>\n",
       "      <th>Zoniferol</th>\n",
       "      <td>53.236507</td>\n",
       "      <td>51.818479</td>\n",
       "      <td>48.533355</td>\n",
       "      <td>6.966589</td>\n",
       "      <td>0.516398</td>\n",
       "    </tr>\n",
       "    <tr>\n",
       "      <th>Ketapril</th>\n",
       "      <td>55.235638</td>\n",
       "      <td>53.698743</td>\n",
       "      <td>68.553577</td>\n",
       "      <td>8.279709</td>\n",
       "      <td>0.603860</td>\n",
       "    </tr>\n",
       "    <tr>\n",
       "      <th>Propriva</th>\n",
       "      <td>52.393463</td>\n",
       "      <td>50.909965</td>\n",
       "      <td>43.138803</td>\n",
       "      <td>6.568014</td>\n",
       "      <td>0.525862</td>\n",
       "    </tr>\n",
       "    <tr>\n",
       "      <th>Naftisol</th>\n",
       "      <td>54.331565</td>\n",
       "      <td>52.509285</td>\n",
       "      <td>66.173479</td>\n",
       "      <td>8.134708</td>\n",
       "      <td>0.596466</td>\n",
       "    </tr>\n",
       "  </tbody>\n",
       "</table>\n",
       "</div>"
      ],
      "text/plain": [
       "              Mean Tumor Volume (mm3)  Median Tumor Volume (mm3)  \\\n",
       "Drug Regimen                                                       \n",
       "Ramicane                    40.216745                  40.673236   \n",
       "Capomulin                   40.675741                  41.557809   \n",
       "Infubinol                   52.884795                  51.820584   \n",
       "Placebo                     54.033581                  52.288934   \n",
       "Ceftamin                    52.591172                  51.776157   \n",
       "Stelasyn                    54.233149                  52.431737   \n",
       "Zoniferol                   53.236507                  51.818479   \n",
       "Ketapril                    55.235638                  53.698743   \n",
       "Propriva                    52.393463                  50.909965   \n",
       "Naftisol                    54.331565                  52.509285   \n",
       "\n",
       "              Variance Tumor Volume (mm3)  \\\n",
       "Drug Regimen                                \n",
       "Ramicane                        23.486704   \n",
       "Capomulin                       24.947764   \n",
       "Infubinol                       43.128684   \n",
       "Placebo                         61.168083   \n",
       "Ceftamin                        39.290177   \n",
       "Stelasyn                        59.450562   \n",
       "Zoniferol                       48.533355   \n",
       "Ketapril                        68.553577   \n",
       "Propriva                        43.138803   \n",
       "Naftisol                        66.173479   \n",
       "\n",
       "              Standard Deviation Tumor Volume (mm3)  SEM Tumor Volume (mm3)  \n",
       "Drug Regimen                                                                 \n",
       "Ramicane                                   4.846308                0.320955  \n",
       "Capomulin                                  4.994774                0.329346  \n",
       "Infubinol                                  6.567243                0.492236  \n",
       "Placebo                                    7.821003                0.581331  \n",
       "Ceftamin                                   6.268188                0.469821  \n",
       "Stelasyn                                   7.710419                0.573111  \n",
       "Zoniferol                                  6.966589                0.516398  \n",
       "Ketapril                                   8.279709                0.603860  \n",
       "Propriva                                   6.568014                0.525862  \n",
       "Naftisol                                   8.134708                0.596466  "
      ]
     },
     "execution_count": 7,
     "metadata": {},
     "output_type": "execute_result"
    }
   ],
   "source": [
    "# Generate a summary statistics table of mean, median, variance, standard deviation, and SEM of the tumor volume for each regimen\n",
    "\n",
    "# This method is the most straighforward, creating multiple series and putting them all together at the end.\n",
    "regimens = list(clean_df[\"Drug Regimen\"].unique())\n",
    "mean_byregimen = list()\n",
    "median_byregimen = list()\n",
    "var_byregimen = list()\n",
    "stddev_byregimen = list()\n",
    "sem_byregimen = list()\n",
    "\n",
    "for regimen in regimens:\n",
    "    mean_byregimen.append(clean_df.loc[clean_df[\"Drug Regimen\"]==regimen, \"Tumor Volume (mm3)\"].mean())\n",
    "    median_byregimen.append(clean_df.loc[clean_df[\"Drug Regimen\"]==regimen, \"Tumor Volume (mm3)\"].median())\n",
    "    var_byregimen.append(clean_df.loc[clean_df[\"Drug Regimen\"]==regimen, \"Tumor Volume (mm3)\"].var())\n",
    "    stddev_byregimen.append(clean_df.loc[clean_df[\"Drug Regimen\"]==regimen, \"Tumor Volume (mm3)\"].std())\n",
    "    sem_byregimen.append(clean_df.loc[clean_df[\"Drug Regimen\"]==regimen, \"Tumor Volume (mm3)\"].sem())\n",
    "\n",
    "summary_byregimen = pd.DataFrame({\n",
    "                    \"Drug Regimen\": regimens,\n",
    "                    \"Mean Tumor Volume (mm3)\": mean_byregimen,\n",
    "                    \"Median Tumor Volume (mm3)\": median_byregimen,\n",
    "                    \"Variance Tumor Volume (mm3)\": var_byregimen,\n",
    "                    \"Standard Deviation Tumor Volume (mm3)\": stddev_byregimen,\n",
    "                    \"SEM Tumor Volume (mm3)\": sem_byregimen\n",
    "                    })\n",
    "\n",
    "summary_byregimen = summary_byregimen.set_index(\"Drug Regimen\")\n",
    "summary_byregimen"
   ]
  },
  {
   "cell_type": "code",
   "execution_count": 8,
   "metadata": {},
   "outputs": [
    {
     "data": {
      "text/html": [
       "<div>\n",
       "<style scoped>\n",
       "    .dataframe tbody tr th:only-of-type {\n",
       "        vertical-align: middle;\n",
       "    }\n",
       "\n",
       "    .dataframe tbody tr th {\n",
       "        vertical-align: top;\n",
       "    }\n",
       "\n",
       "    .dataframe thead th {\n",
       "        text-align: right;\n",
       "    }\n",
       "</style>\n",
       "<table border=\"1\" class=\"dataframe\">\n",
       "  <thead>\n",
       "    <tr style=\"text-align: right;\">\n",
       "      <th></th>\n",
       "      <th>Tumor Volume (mm3)</th>\n",
       "      <th>Median Tumor Volume (mm3)</th>\n",
       "      <th>Variance Tumor Volume (mm3)</th>\n",
       "      <th>Standard Deviation Tumor Volume (mm3)</th>\n",
       "      <th>SEM Tumor Volume (mm3)</th>\n",
       "    </tr>\n",
       "    <tr>\n",
       "      <th>Drug Regimen</th>\n",
       "      <th></th>\n",
       "      <th></th>\n",
       "      <th></th>\n",
       "      <th></th>\n",
       "      <th></th>\n",
       "    </tr>\n",
       "  </thead>\n",
       "  <tbody>\n",
       "    <tr>\n",
       "      <th>Capomulin</th>\n",
       "      <td>40.675741</td>\n",
       "      <td>41.557809</td>\n",
       "      <td>24.947764</td>\n",
       "      <td>4.994774</td>\n",
       "      <td>0.329346</td>\n",
       "    </tr>\n",
       "    <tr>\n",
       "      <th>Ceftamin</th>\n",
       "      <td>52.591172</td>\n",
       "      <td>51.776157</td>\n",
       "      <td>39.290177</td>\n",
       "      <td>6.268188</td>\n",
       "      <td>0.469821</td>\n",
       "    </tr>\n",
       "    <tr>\n",
       "      <th>Infubinol</th>\n",
       "      <td>52.884795</td>\n",
       "      <td>51.820584</td>\n",
       "      <td>43.128684</td>\n",
       "      <td>6.567243</td>\n",
       "      <td>0.492236</td>\n",
       "    </tr>\n",
       "    <tr>\n",
       "      <th>Ketapril</th>\n",
       "      <td>55.235638</td>\n",
       "      <td>53.698743</td>\n",
       "      <td>68.553577</td>\n",
       "      <td>8.279709</td>\n",
       "      <td>0.603860</td>\n",
       "    </tr>\n",
       "    <tr>\n",
       "      <th>Naftisol</th>\n",
       "      <td>54.331565</td>\n",
       "      <td>52.509285</td>\n",
       "      <td>66.173479</td>\n",
       "      <td>8.134708</td>\n",
       "      <td>0.596466</td>\n",
       "    </tr>\n",
       "    <tr>\n",
       "      <th>Placebo</th>\n",
       "      <td>54.033581</td>\n",
       "      <td>52.288934</td>\n",
       "      <td>61.168083</td>\n",
       "      <td>7.821003</td>\n",
       "      <td>0.581331</td>\n",
       "    </tr>\n",
       "    <tr>\n",
       "      <th>Propriva</th>\n",
       "      <td>52.393463</td>\n",
       "      <td>50.909965</td>\n",
       "      <td>43.138803</td>\n",
       "      <td>6.568014</td>\n",
       "      <td>0.525862</td>\n",
       "    </tr>\n",
       "    <tr>\n",
       "      <th>Ramicane</th>\n",
       "      <td>40.216745</td>\n",
       "      <td>40.673236</td>\n",
       "      <td>23.486704</td>\n",
       "      <td>4.846308</td>\n",
       "      <td>0.320955</td>\n",
       "    </tr>\n",
       "    <tr>\n",
       "      <th>Stelasyn</th>\n",
       "      <td>54.233149</td>\n",
       "      <td>52.431737</td>\n",
       "      <td>59.450562</td>\n",
       "      <td>7.710419</td>\n",
       "      <td>0.573111</td>\n",
       "    </tr>\n",
       "    <tr>\n",
       "      <th>Zoniferol</th>\n",
       "      <td>53.236507</td>\n",
       "      <td>51.818479</td>\n",
       "      <td>48.533355</td>\n",
       "      <td>6.966589</td>\n",
       "      <td>0.516398</td>\n",
       "    </tr>\n",
       "  </tbody>\n",
       "</table>\n",
       "</div>"
      ],
      "text/plain": [
       "              Tumor Volume (mm3)  Median Tumor Volume (mm3)  \\\n",
       "Drug Regimen                                                  \n",
       "Capomulin              40.675741                  41.557809   \n",
       "Ceftamin               52.591172                  51.776157   \n",
       "Infubinol              52.884795                  51.820584   \n",
       "Ketapril               55.235638                  53.698743   \n",
       "Naftisol               54.331565                  52.509285   \n",
       "Placebo                54.033581                  52.288934   \n",
       "Propriva               52.393463                  50.909965   \n",
       "Ramicane               40.216745                  40.673236   \n",
       "Stelasyn               54.233149                  52.431737   \n",
       "Zoniferol              53.236507                  51.818479   \n",
       "\n",
       "              Variance Tumor Volume (mm3)  \\\n",
       "Drug Regimen                                \n",
       "Capomulin                       24.947764   \n",
       "Ceftamin                        39.290177   \n",
       "Infubinol                       43.128684   \n",
       "Ketapril                        68.553577   \n",
       "Naftisol                        66.173479   \n",
       "Placebo                         61.168083   \n",
       "Propriva                        43.138803   \n",
       "Ramicane                        23.486704   \n",
       "Stelasyn                        59.450562   \n",
       "Zoniferol                       48.533355   \n",
       "\n",
       "              Standard Deviation Tumor Volume (mm3)  SEM Tumor Volume (mm3)  \n",
       "Drug Regimen                                                                 \n",
       "Capomulin                                  4.994774                0.329346  \n",
       "Ceftamin                                   6.268188                0.469821  \n",
       "Infubinol                                  6.567243                0.492236  \n",
       "Ketapril                                   8.279709                0.603860  \n",
       "Naftisol                                   8.134708                0.596466  \n",
       "Placebo                                    7.821003                0.581331  \n",
       "Propriva                                   6.568014                0.525862  \n",
       "Ramicane                                   4.846308                0.320955  \n",
       "Stelasyn                                   7.710419                0.573111  \n",
       "Zoniferol                                  6.966589                0.516398  "
      ]
     },
     "execution_count": 8,
     "metadata": {},
     "output_type": "execute_result"
    }
   ],
   "source": [
    "# Generate a summary statistics table of mean, median, variance, standard deviation, and SEM of the tumor volume for each regimen\n",
    "\n",
    "# This method produces everything in a single groupby function\n",
    "cut_df = clean_df[[\"Drug Regimen\", \"Tumor Volume (mm3)\"]]\n",
    "cut_byregimen = cut_df.groupby([\"Drug Regimen\"])\n",
    "summary2_byregimen = cut_byregimen.mean()\n",
    "summary2_byregimen = summary2_byregimen.rename(columns={\"Total Volume (mm3)\": \"Mean Tumor Volume (mm3)\"})\n",
    "summary2_byregimen[\"Median Tumor Volume (mm3)\"] = cut_byregimen.median()\n",
    "summary2_byregimen[\"Variance Tumor Volume (mm3)\"] = cut_byregimen.var()\n",
    "summary2_byregimen[\"Standard Deviation Tumor Volume (mm3)\"] = cut_byregimen.std()\n",
    "summary2_byregimen[\"SEM Tumor Volume (mm3)\"] = cut_byregimen.sem()\n",
    "\n",
    "summary2_byregimen"
   ]
  },
  {
   "cell_type": "markdown",
   "metadata": {},
   "source": [
    "## Bar and Pie Charts"
   ]
  },
  {
   "cell_type": "code",
   "execution_count": 9,
   "metadata": {},
   "outputs": [
    {
     "data": {
      "image/png": "[encoded data removed]",
      "text/plain": [
       "<Figure size 432x288 with 1 Axes>"
      ]
     },
     "metadata": {
      "needs_background": "light"
     },
     "output_type": "display_data"
    },
    {
     "data": {
      "text/plain": [
       "<Figure size 432x288 with 0 Axes>"
      ]
     },
     "metadata": {},
     "output_type": "display_data"
    }
   ],
   "source": [
    "# Generate a bar plot showing the total number of mice for each treatment throughout the course of the study using pandas. \n",
    "cut_df = clean_df[[\"Drug Regimen\", \"Mouse ID\"]]\n",
    "cut_df = cut_df.drop_duplicates(subset=[\"Drug Regimen\", \"Mouse ID\"], keep=\"first\")\n",
    "mice_byregimen = cut_df.groupby([\"Drug Regimen\"]).count()\n",
    "mice_byregimen = mice_byregimen.rename(columns={\"Mouse ID\": \"Number of Mice\"})\n",
    "mice_byregimen = mice_byregimen.sort_values(\"Number of Mice\")\n",
    "mice_chart = mice_byregimen.plot(kind='barh',\n",
    "                                 legend=False,\n",
    "                                 title=\"Total Number of Mice for Each Treatment\")\n",
    "mice_chart.set_xlabel(\"Number of Mice\")\n",
    "plt.show()\n",
    "plt.tight_layout()"
   ]
  },
  {
   "cell_type": "code",
   "execution_count": 10,
   "metadata": {},
   "outputs": [
    {
     "data": {
      "image/png": "[encoded data removed]",
      "text/plain": [
       "<Figure size 432x288 with 1 Axes>"
      ]
     },
     "metadata": {
      "needs_background": "light"
     },
     "output_type": "display_data"
    },
    {
     "data": {
      "text/plain": [
       "<Figure size 432x288 with 0 Axes>"
      ]
     },
     "metadata": {},
     "output_type": "display_data"
    }
   ],
   "source": [
    "# Generate a bar plot showing the total number of mice for each treatment throughout the course of the study using pyplot.\n",
    "value = mice_byregimen[\"Number of Mice\"]\n",
    "labels = list(mice_byregimen.index)\n",
    "\n",
    "plt.barh(labels, value, alpha=1, align=\"center\")\n",
    "plt.xlabel(\"Number of Mice\")\n",
    "plt.ylabel(\"Drug Regimen\")\n",
    "plt.title(\"Total Number of Mice for Each Treatment\")\n",
    "plt.show()\n",
    "plt.tight_layout()"
   ]
  },
  {
   "cell_type": "code",
   "execution_count": 11,
   "metadata": {},
   "outputs": [
    {
     "data": {
      "image/png": "[encoded data removed]",
      "text/plain": [
       "<Figure size 432x288 with 1 Axes>"
      ]
     },
     "metadata": {},
     "output_type": "display_data"
    },
    {
     "data": {
      "text/plain": [
       "<Figure size 432x288 with 0 Axes>"
      ]
     },
     "metadata": {},
     "output_type": "display_data"
    }
   ],
   "source": [
    "# Generate a pie plot showing the distribution of female versus male mice using pandas\n",
    "cut_df = clean_df[[\"Sex\", \"Mouse ID\"]]\n",
    "cut_df = cut_df.drop_duplicates(subset=[\"Sex\", \"Mouse ID\"], keep=\"first\")\n",
    "mice_bysex = cut_df.groupby([\"Sex\"]).count()\n",
    "mice_bysex = mice_bysex.rename(columns={\"Mouse ID\": \"Number of Mice\"})\n",
    "mice_chart = mice_bysex.plot(kind='pie', \n",
    "                             subplots=True,\n",
    "                             legend=False,\n",
    "                             autopct='%1.1f%%',\n",
    "                             startangle = 150,\n",
    "                             shadow=True,\n",
    "                             title=\"Total Number of Mice by Sex\")\n",
    "plt.show()\n",
    "plt.tight_layout()"
   ]
  },
  {
   "cell_type": "code",
   "execution_count": 12,
   "metadata": {},
   "outputs": [
    {
     "data": {
      "image/png": "[encoded data removed]",
      "text/plain": [
       "<Figure size 432x288 with 1 Axes>"
      ]
     },
     "metadata": {},
     "output_type": "display_data"
    },
    {
     "data": {
      "text/plain": [
       "<Figure size 432x288 with 0 Axes>"
      ]
     },
     "metadata": {},
     "output_type": "display_data"
    }
   ],
   "source": [
    "# Generate a pie plot showing the distribution of female versus male mice using pyplot\n",
    "value = mice_bysex[\"Number of Mice\"]\n",
    "labels = list(mice_bysex.index)\n",
    "\n",
    "plt.pie(value, \n",
    "        labels=labels, \n",
    "        autopct='%1.1f%%', \n",
    "        shadow=True, \n",
    "        startangle=150)\n",
    "plt.xlabel(\"Number of Mice\")\n",
    "plt.title(\"Total Number of Mice for Each Treatment\")\n",
    "plt.show()\n",
    "plt.tight_layout()"
   ]
  },
  {
   "cell_type": "markdown",
   "metadata": {},
   "source": [
    "## Quartiles, Outliers and Boxplots"
   ]
  },
  {
   "cell_type": "code",
   "execution_count": 13,
   "metadata": {},
   "outputs": [
    {
     "data": {
      "text/html": [
       "<div>\n",
       "<style scoped>\n",
       "    .dataframe tbody tr th:only-of-type {\n",
       "        vertical-align: middle;\n",
       "    }\n",
       "\n",
       "    .dataframe tbody tr th {\n",
       "        vertical-align: top;\n",
       "    }\n",
       "\n",
       "    .dataframe thead th {\n",
       "        text-align: right;\n",
       "    }\n",
       "</style>\n",
       "<table border=\"1\" class=\"dataframe\">\n",
       "  <thead>\n",
       "    <tr style=\"text-align: right;\">\n",
       "      <th></th>\n",
       "      <th>Drug Regimen</th>\n",
       "      <th>Mouse ID</th>\n",
       "      <th>Tumor Volume (mm3)</th>\n",
       "    </tr>\n",
       "  </thead>\n",
       "  <tbody>\n",
       "    <tr>\n",
       "      <th>116</th>\n",
       "      <td>Capomulin</td>\n",
       "      <td>l897</td>\n",
       "      <td>38.846876</td>\n",
       "    </tr>\n",
       "    <tr>\n",
       "      <th>86</th>\n",
       "      <td>Capomulin</td>\n",
       "      <td>j119</td>\n",
       "      <td>38.125164</td>\n",
       "    </tr>\n",
       "    <tr>\n",
       "      <th>88</th>\n",
       "      <td>Capomulin</td>\n",
       "      <td>j246</td>\n",
       "      <td>38.753265</td>\n",
       "    </tr>\n",
       "    <tr>\n",
       "      <th>193</th>\n",
       "      <td>Capomulin</td>\n",
       "      <td>u364</td>\n",
       "      <td>31.023923</td>\n",
       "    </tr>\n",
       "    <tr>\n",
       "      <th>66</th>\n",
       "      <td>Capomulin</td>\n",
       "      <td>g316</td>\n",
       "      <td>40.159220</td>\n",
       "    </tr>\n",
       "  </tbody>\n",
       "</table>\n",
       "</div>"
      ],
      "text/plain": [
       "    Drug Regimen Mouse ID  Tumor Volume (mm3)\n",
       "116    Capomulin     l897           38.846876\n",
       "86     Capomulin     j119           38.125164\n",
       "88     Capomulin     j246           38.753265\n",
       "193    Capomulin     u364           31.023923\n",
       "66     Capomulin     g316           40.159220"
      ]
     },
     "execution_count": 13,
     "metadata": {},
     "output_type": "execute_result"
    }
   ],
   "source": [
    "# Calculate the final tumor volume of each mouse across four of the treatment regimens:  \n",
    "# Capomulin, Ramicane, Infubinol, and Ceftamin\n",
    "\n",
    "# Start by getting the last (greatest) timepoint for each mouse\n",
    "timepoint_df = clean_df.groupby([\"Mouse ID\"])\n",
    "timepoint_df = timepoint_df[\"Timepoint\"].max()\n",
    "timepoint_df = timepoint_df.reset_index()\n",
    "\n",
    "# Merge this group df with the original dataframe to get the tumor volume at the last timepoint\n",
    "mergetime_df = timepoint_df.merge(clean_df[[\"Mouse ID\",\"Drug Regimen\",\"Timepoint\",\"Tumor Volume (mm3)\"]], on=[\"Mouse ID\",\"Timepoint\"], how=\"left\")\n",
    "fourtreatments = [\"Capomulin\",\"Ramicane\",\"Infubinol\",\"Ceftamin\"]\n",
    "mergetime_df = mergetime_df[mergetime_df[\"Drug Regimen\"].isin(fourtreatments)]\n",
    "mergetime_df = mergetime_df[[\"Drug Regimen\",\"Mouse ID\",\"Tumor Volume (mm3)\"]]\n",
    "mergetime_df = mergetime_df.sort_values(by=\"Drug Regimen\")\n",
    "mergetime_df.head()"
   ]
  },
  {
   "cell_type": "code",
   "execution_count": 15,
   "metadata": {},
   "outputs": [
    {
     "data": {
      "text/html": [
       "<div>\n",
       "<style scoped>\n",
       "    .dataframe tbody tr th:only-of-type {\n",
       "        vertical-align: middle;\n",
       "    }\n",
       "\n",
       "    .dataframe tbody tr th {\n",
       "        vertical-align: top;\n",
       "    }\n",
       "\n",
       "    .dataframe thead th {\n",
       "        text-align: right;\n",
       "    }\n",
       "</style>\n",
       "<table border=\"1\" class=\"dataframe\">\n",
       "  <thead>\n",
       "    <tr style=\"text-align: right;\">\n",
       "      <th></th>\n",
       "      <th>Age_months</th>\n",
       "      <th>Weight (g)</th>\n",
       "      <th>Timepoint</th>\n",
       "      <th>Tumor Volume (mm3)</th>\n",
       "      <th>Metastatic Sites</th>\n",
       "    </tr>\n",
       "    <tr>\n",
       "      <th>Drug Regimen</th>\n",
       "      <th></th>\n",
       "      <th></th>\n",
       "      <th></th>\n",
       "      <th></th>\n",
       "      <th></th>\n",
       "    </tr>\n",
       "  </thead>\n",
       "  <tbody>\n",
       "    <tr>\n",
       "      <th>Capomulin</th>\n",
       "      <td>14.040</td>\n",
       "      <td>20.120</td>\n",
       "      <td>41.000000</td>\n",
       "      <td>36.667568</td>\n",
       "      <td>1.280000</td>\n",
       "    </tr>\n",
       "    <tr>\n",
       "      <th>Ceftamin</th>\n",
       "      <td>12.800</td>\n",
       "      <td>27.400</td>\n",
       "      <td>30.600000</td>\n",
       "      <td>57.753977</td>\n",
       "      <td>1.720000</td>\n",
       "    </tr>\n",
       "    <tr>\n",
       "      <th>Infubinol</th>\n",
       "      <td>16.400</td>\n",
       "      <td>27.320</td>\n",
       "      <td>30.600000</td>\n",
       "      <td>58.178246</td>\n",
       "      <td>1.600000</td>\n",
       "    </tr>\n",
       "    <tr>\n",
       "      <th>Ketapril</th>\n",
       "      <td>14.720</td>\n",
       "      <td>28.080</td>\n",
       "      <td>32.600000</td>\n",
       "      <td>62.806191</td>\n",
       "      <td>1.920000</td>\n",
       "    </tr>\n",
       "    <tr>\n",
       "      <th>Naftisol</th>\n",
       "      <td>12.240</td>\n",
       "      <td>27.240</td>\n",
       "      <td>32.200000</td>\n",
       "      <td>61.205757</td>\n",
       "      <td>2.000000</td>\n",
       "    </tr>\n",
       "    <tr>\n",
       "      <th>Placebo</th>\n",
       "      <td>10.680</td>\n",
       "      <td>28.040</td>\n",
       "      <td>31.200000</td>\n",
       "      <td>60.508414</td>\n",
       "      <td>2.080000</td>\n",
       "    </tr>\n",
       "    <tr>\n",
       "      <th>Propriva</th>\n",
       "      <td>9.880</td>\n",
       "      <td>27.240</td>\n",
       "      <td>26.200000</td>\n",
       "      <td>56.736964</td>\n",
       "      <td>1.560000</td>\n",
       "    </tr>\n",
       "    <tr>\n",
       "      <th>Ramicane</th>\n",
       "      <td>10.840</td>\n",
       "      <td>20.000</td>\n",
       "      <td>40.600000</td>\n",
       "      <td>36.191390</td>\n",
       "      <td>1.200000</td>\n",
       "    </tr>\n",
       "    <tr>\n",
       "      <th>Stelasyn</th>\n",
       "      <td>13.125</td>\n",
       "      <td>27.875</td>\n",
       "      <td>32.708333</td>\n",
       "      <td>61.001707</td>\n",
       "      <td>1.458333</td>\n",
       "    </tr>\n",
       "    <tr>\n",
       "      <th>Zoniferol</th>\n",
       "      <td>12.600</td>\n",
       "      <td>27.920</td>\n",
       "      <td>31.400000</td>\n",
       "      <td>59.181258</td>\n",
       "      <td>2.000000</td>\n",
       "    </tr>\n",
       "  </tbody>\n",
       "</table>\n",
       "</div>"
      ],
      "text/plain": [
       "              Age_months  Weight (g)  Timepoint  Tumor Volume (mm3)  \\\n",
       "Drug Regimen                                                          \n",
       "Capomulin         14.040      20.120  41.000000           36.667568   \n",
       "Ceftamin          12.800      27.400  30.600000           57.753977   \n",
       "Infubinol         16.400      27.320  30.600000           58.178246   \n",
       "Ketapril          14.720      28.080  32.600000           62.806191   \n",
       "Naftisol          12.240      27.240  32.200000           61.205757   \n",
       "Placebo           10.680      28.040  31.200000           60.508414   \n",
       "Propriva           9.880      27.240  26.200000           56.736964   \n",
       "Ramicane          10.840      20.000  40.600000           36.191390   \n",
       "Stelasyn          13.125      27.875  32.708333           61.001707   \n",
       "Zoniferol         12.600      27.920  31.400000           59.181258   \n",
       "\n",
       "              Metastatic Sites  \n",
       "Drug Regimen                    \n",
       "Capomulin             1.280000  \n",
       "Ceftamin              1.720000  \n",
       "Infubinol             1.600000  \n",
       "Ketapril              1.920000  \n",
       "Naftisol              2.000000  \n",
       "Placebo               2.080000  \n",
       "Propriva              1.560000  \n",
       "Ramicane              1.200000  \n",
       "Stelasyn              1.458333  \n",
       "Zoniferol             2.000000  "
      ]
     },
     "execution_count": 15,
     "metadata": {},
     "output_type": "execute_result"
    }
   ],
   "source": [
    "# My alternative method - sort by values based on timepoint, mouse id and drug regiment\n",
    "# Then drop duplicates to keep last timepoint by drug regiment and mouse id\n",
    "# Only keep rows with the 4 treatments stated\n",
    "clean_df = clean_df.sort_values(by=[\"Drug Regimen\",\"Mouse ID\",\"Timepoint\"], ascending=True)\n",
    "finalvol_df = clean_df.drop_duplicates(subset=[\"Drug Regimen\",\"Mouse ID\"], keep=\"last\")\n",
    "#fourtreatments = [\"Capomulin\",\"Ramicane\",\"Infubinol\",\"Ceftamin\"]\n",
    "#finalvol_df = finalvol_df[finalvol_df[\"Drug Regimen\"].isin(fourtreatments)]\n",
    "#finalvol_df.shape\n",
    "finalvol_df.groupby(\"Drug Regimen\").mean()"
   ]
  },
  {
   "cell_type": "code",
   "execution_count": 16,
   "metadata": {},
   "outputs": [
    {
     "name": "stdout",
     "output_type": "stream",
     "text": [
      "There are no potential outliers in Capomulin Tumor Volume\n",
      "There are no potential outliers in Ramicane Tumor Volume\n",
      "There is 1 potential outlier in Infubinol Tumor Volume\n",
      "There are no potential outliers in Ceftamin Tumor Volume\n"
     ]
    }
   ],
   "source": [
    "listdata_df = mergetime_df[[\"Drug Regimen\",\"Tumor Volume (mm3)\"]]\n",
    "#listdata_df = listdata_df.set_index(\"Drug Regimen\")\n",
    "\n",
    "# Put treatments into a list for for loop (and later for plot labels)\n",
    "fourtreatments = [\"Capomulin\",\"Ramicane\",\"Infubinol\",\"Ceftamin\"]\n",
    "\n",
    "# Create empty list to fill with tumor vol data (for plotting)\n",
    "tumor_vol_data = list()\n",
    "\n",
    "# Calculate the IQR and quantitatively determine if there are any potential outliers. \n",
    "    \n",
    "    # Locate the rows which contain mice on each drug and get the tumor volumes    \n",
    "tumor_vol_data = [listdata_df[\"Tumor Volume (mm3)\"].loc[listdata_df[\"Drug Regimen\"] == fourtreatments[x]] for x in range(len(fourtreatments))]\n",
    "    \n",
    "    # add subset \n",
    "outliers = 0    \n",
    "\n",
    "for x in range(len(fourtreatments)):\n",
    "    quartiles = tumor_vol_data[x].quantile([0.25,0.5,0.75])\n",
    "    lowerq = quartiles[0.25]\n",
    "    upperq = quartiles[0.75]\n",
    "    iqr = upperq - lowerq\n",
    "\n",
    "    # Determine outliers using upper and lower bounds    \n",
    "    lower_bound = lowerq - (1.5 * iqr)\n",
    "    upper_bound = upperq + (1.5 * iqr)\n",
    "    if len(tumor_vol_data[x][tumor_vol_data[x] > upper_bound])+len(tumor_vol_data[x][tumor_vol_data[x] < lower_bound]) == 0:\n",
    "        print(f\"There are no potential outliers in {fourtreatments[x]} Tumor Volume\")\n",
    "    elif len(tumor_vol_data[x][tumor_vol_data[x] > upper_bound])+len(tumor_vol_data[x][tumor_vol_data[x] < lower_bound]) == 1:\n",
    "        print(f\"There is {len(tumor_vol_data[x][tumor_vol_data[x] > upper_bound])+len(tumor_vol_data[x][tumor_vol_data[x] < lower_bound])} potential outlier in {fourtreatments[x]} Tumor Volume\")\n",
    "    else:\n",
    "        print(f\"There are {len(tumor_vol_data[x][tumor_vol_data[x] > upper_bound])+len(tumor_vol_data[x][tumor_vol_data[x] < lower_bound])} potential outliers in {fourtreatments[x]} Tumor Volume\")"
   ]
  },
  {
   "cell_type": "code",
   "execution_count": 17,
   "metadata": {},
   "outputs": [
    {
     "data": {
      "image/png": "[encoded data removed]",
      "text/plain": [
       "<Figure size 432x288 with 1 Axes>"
      ]
     },
     "metadata": {
      "needs_background": "light"
     },
     "output_type": "display_data"
    }
   ],
   "source": [
    "# Generate a box plot of the final tumor volume of each mouse across four regimens of interest\n",
    "fig, box = plt.subplots()\n",
    "flierprops = dict(marker='o', markerfacecolor='r', markersize=7)\n",
    "box.set_xlabel(\"Drug Regimen\")\n",
    "box.set_ylabel(\"Tumor Volume (mm3)\")\n",
    "box.set_title(\"Final Four Regimens Final Tumor Volumes (mm3)\")\n",
    "box = plt.boxplot([listdata_df[\"Tumor Volume (mm3)\"].loc[listdata_df[\"Drug Regimen\"] == fourtreatments[x]] for x in range(len(fourtreatments))],\n",
    "           labels=fourtreatments,\n",
    "           notch=True,\n",
    "           flierprops=flierprops)\n",
    "plt.show()"
   ]
  },
  {
   "cell_type": "markdown",
   "metadata": {},
   "source": [
    "## Line and Scatter Plots"
   ]
  },
  {
   "cell_type": "code",
   "execution_count": 18,
   "metadata": {},
   "outputs": [
    {
     "data": {
      "image/png": "[encoded data removed]",
      "text/plain": [
       "<Figure size 432x288 with 1 Axes>"
      ]
     },
     "metadata": {
      "needs_background": "light"
     },
     "output_type": "display_data"
    }
   ],
   "source": [
    "# Generate a line plot of time point versus tumor volume for a mouse treated with Capomulin\n",
    "linedata = clean_df.loc[clean_df[\"Mouse ID\"] == \"b128\"]\n",
    "line = linedata.plot(x =\"Timepoint\", y=\"Tumor Volume (mm3)\", kind=\"line\", legend=\"none\")\n",
    "line.set_ylabel(\"Tumor Volume (mm3)\")\n",
    "line.set_title(\"Tumor Volumes for a Mouse on Capomulin (Mouse ID b128)\")\n",
    "plt.tight_layout()\n",
    "plt.show()"
   ]
  },
  {
   "cell_type": "code",
   "execution_count": 30,
   "metadata": {},
   "outputs": [
    {
     "data": {
      "image/png": "[encoded data removed]",
      "text/plain": [
       "<Figure size 432x288 with 1 Axes>"
      ]
     },
     "metadata": {
      "needs_background": "light"
     },
     "output_type": "display_data"
    }
   ],
   "source": [
    "# Generate a scatter plot of mouse weight versus average tumor volume for the Capomulin regimen\n",
    "capomulinreg = clean_df[clean_df[\"Drug Regimen\"] == \"Capomulin\"]\n",
    "scatterdata = capomulinreg.groupby([\"Mouse ID\"]).mean()\n",
    "scatter = scatterdata.plot(x=\"Weight (g)\", y=\"Tumor Volume (mm3)\", kind=\"scatter\", alpha=0.9)\n",
    "scatter.set_ylabel(\"Average Tumor Volume (mm3)\")\n",
    "scatter.set_title(\"Mouse Weight vs Average Tumor Volumes for the Capomulin Regimen\")\n",
    "plt.show()"
   ]
  },
  {
   "cell_type": "markdown",
   "metadata": {},
   "source": [
    "## Correlation and Regression"
   ]
  },
  {
   "cell_type": "code",
   "execution_count": 31,
   "metadata": {},
   "outputs": [
    {
     "data": {
      "image/png": "[encoded data removed]",
      "text/plain": [
       "<Figure size 432x288 with 1 Axes>"
      ]
     },
     "metadata": {
      "needs_background": "light"
     },
     "output_type": "display_data"
    },
    {
     "name": "stdout",
     "output_type": "stream",
     "text": [
      "Correlation coefficient: 0.81\n"
     ]
    }
   ],
   "source": [
    "# Calculate the correlation coefficient and linear regression model \n",
    "# for mouse weight and average tumor volume for the Capomulin regimen\n",
    "(slope, intercept, rvalue, pvalue, stderr) = st.linregress(scatterdata[\"Weight (g)\"], scatterdata[\"Tumor Volume (mm3)\"])\n",
    "equation = slope * scatterdata[\"Weight (g)\"] + intercept\n",
    "printequation = f'y = {str(round(slope,2))}x + {str(round(intercept,2))}'\n",
    "\n",
    "capomulinreg = clean_df[clean_df[\"Drug Regimen\"] == \"Capomulin\"]\n",
    "scatterdata = capomulinreg.groupby([\"Mouse ID\"]).mean()\n",
    "scatter = scatterdata.plot(x=\"Weight (g)\", y=\"Tumor Volume (mm3)\", kind=\"scatter\", alpha=0.9)\n",
    "scatter.set_ylabel(\"Average Tumor Volume (mm3)\")\n",
    "scatter.set_title(\"Mouse Weight vs Average Tumor Volumes for the Capomulin Regimen\")\n",
    "plt.plot(scatterdata[\"Weight (g)\"],equation,\"r-.\", linewidth=1)\n",
    "plt.annotate(printequation, (17,37), fontsize=10, color=\"r\")\n",
    "plt.show()\n",
    "\n",
    "print (f\"Correlation coefficient: {round(rvalue,2)}\")"
   ]
  },
  {
   "cell_type": "markdown",
   "metadata": {},
   "source": [
    "# Observations & Insights"
   ]
  },
  {
   "cell_type": "markdown",
   "metadata": {},
   "source": [
    "1. Capomulin and Ramicane are the only drugs that have observable reduction in the mice Tumor Volume after 45 days."
   ]
  },
  {
   "cell_type": "markdown",
   "metadata": {},
   "source": [
    "2. There seems to be a strong positive correlation at 0.84 between weight and average tumor volume in mice for the Capomulin and Ramicane regimen."
   ]
  },
  {
   "cell_type": "markdown",
   "metadata": {},
   "source": [
    "3. Ramicane seems may be a better choice compared to Capomulin due to the following:\n",
    "    a) there is less difference between mean and median\n",
    "    b) there is less variation in the data (more predictable outcome) as observed by the lower standard deviation and variance\n",
    "    c) the average Metastatic Sites is smaller (1.20 vs 1.28 for Capomulin)"
   ]
  },
  {
   "cell_type": "code",
   "execution_count": null,
   "metadata": {},
   "outputs": [],
   "source": []
  }
 ],
 "metadata": {
  "anaconda-cloud": {},
  "kernelspec": {
   "display_name": "Python 3",
   "language": "python",
   "name": "python3"
  },
  "language_info": {
   "codemirror_mode": {
    "name": "ipython",
    "version": 3
   },
   "file_extension": ".py",
   "mimetype": "text/x-python",
   "name": "python",
   "nbconvert_exporter": "python",
   "pygments_lexer": "ipython3",
   "version": "3.7.6"
  }
 },
 "nbformat": 4,
 "nbformat_minor": 2
}
